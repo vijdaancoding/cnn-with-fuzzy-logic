{
  "nbformat": 4,
  "nbformat_minor": 0,
  "metadata": {
    "colab": {
      "provenance": []
    },
    "kernelspec": {
      "name": "python3",
      "display_name": "Python 3"
    },
    "language_info": {
      "name": "python"
    }
  },
  "cells": [
    {
      "cell_type": "markdown",
      "source": [
        "# **AI PROJECT**\n",
        "### **BY: ALI VIJDAAN**\n",
        "### **REG: 2022560**\n"
      ],
      "metadata": {
        "id": "J9BHzHqab42i"
      }
    },
    {
      "cell_type": "markdown",
      "source": [
        "### The Following Code has been taken from Kaggle. To check the original code please visit the following url: https://www.kaggle.com/code/abdalrahmanshahrour/face-mask-detection-cnn"
      ],
      "metadata": {
        "id": "KvQ9EJjOcJlK"
      }
    },
    {
      "cell_type": "markdown",
      "source": [
        "Importing Libraries"
      ],
      "metadata": {
        "id": "R5EMXzwCcj9V"
      }
    },
    {
      "cell_type": "code",
      "execution_count": null,
      "metadata": {
        "id": "sLhHxoBdWZPf"
      },
      "outputs": [],
      "source": [
        "import numpy as np\n",
        "import pandas as pd\n",
        "import matplotlib.pyplot as plt\n",
        "import os\n",
        "import xml.etree.ElementTree as ET\n",
        "import glob\n",
        "from PIL import Image\n",
        "from sklearn.model_selection import train_test_split\n",
        "from keras.models import Sequential\n",
        "from keras.layers import Conv2D, MaxPooling2D, Flatten, Dense, Dropout\n",
        "from keras.preprocessing.image import ImageDataGenerator\n",
        "from tensorflow.keras.callbacks import EarlyStopping\n",
        "from tensorflow.keras.callbacks import ReduceLROnPlateau\n",
        "from sklearn.metrics import confusion_matrix, classification_report\n",
        "from sklearn.metrics import precision_score, recall_score, accuracy_score,f1_score, classification_report\n",
        "import cv2\n",
        "import seaborn as sns"
      ]
    },
    {
      "cell_type": "markdown",
      "source": [
        "Setting Paths"
      ],
      "metadata": {
        "id": "B6Jbx9V_cn1f"
      }
    },
    {
      "cell_type": "code",
      "source": [
        "#data paths\n",
        "images_data_path = '/content/drive/MyDrive/Colab Notebooks/CNN AI Project/images'\n",
        "annotations_path = '/content/drive/MyDrive/Colab Notebooks/CNN AI Project/annotations'\n",
        "images = [*os.listdir('/content/drive/MyDrive/Colab Notebooks/CNN AI Project/images')]"
      ],
      "metadata": {
        "id": "Ao3OUYyfWdbr"
      },
      "execution_count": null,
      "outputs": []
    },
    {
      "cell_type": "markdown",
      "source": [
        "Parsing xml file for bounding box co-ordinates"
      ],
      "metadata": {
        "id": "onUqmJhCZBOH"
      }
    },
    {
      "cell_type": "code",
      "source": [
        "def parse_annotation(path):\n",
        "    tree = ET.parse(path)\n",
        "    root = tree.getroot()\n",
        "    constants = {}\n",
        "    objects = [child for child in root if child.tag == 'object']\n",
        "    for element in tree.iter():\n",
        "        if element.tag == 'filename':\n",
        "            constants['file'] = element.text[0:-4]\n",
        "        if element.tag == 'size':\n",
        "            for dim in list(element):\n",
        "                if dim.tag == 'width':\n",
        "                    constants['width'] = int(dim.text)\n",
        "                if dim.tag == 'height':\n",
        "                    constants['height'] = int(dim.text)\n",
        "                if dim.tag == 'depth':\n",
        "                    constants['depth'] = int(dim.text)\n",
        "    object_params = [parse_annotation_object(obj) for obj in objects]\n",
        "    #print(constants)\n",
        "    full_result = [merge(constants,ob) for ob in object_params]\n",
        "    return full_result\n",
        "\n",
        "\n",
        "def parse_annotation_object(annotation_object):\n",
        "    params = {}\n",
        "    for param in list(annotation_object):\n",
        "        if param.tag == 'name':\n",
        "            params['name'] = param.text\n",
        "        if param.tag == 'bndbox':\n",
        "            for coord in list(param):\n",
        "                if coord.tag == 'xmin':\n",
        "                    params['xmin'] = int(coord.text)\n",
        "                if coord.tag == 'ymin':\n",
        "                    params['ymin'] = int(coord.text)\n",
        "                if coord.tag == 'xmax':\n",
        "                    params['xmax'] = int(coord.text)\n",
        "                if coord.tag == 'ymax':\n",
        "                    params['ymax'] = int(coord.text)\n",
        "\n",
        "    return params\n",
        "\n",
        "def merge(dict1, dict2):\n",
        "    res = {**dict1, **dict2}\n",
        "    return res"
      ],
      "metadata": {
        "id": "J8GAsoA-WnjS"
      },
      "execution_count": null,
      "outputs": []
    },
    {
      "cell_type": "code",
      "source": [
        "dataset = [parse_annotation(anno) for anno in glob.glob(annotations_path+\"/*.xml\") ]\n",
        "\n",
        "full_dataset = sum(dataset, [])\n",
        "\n",
        "df = pd.DataFrame(full_dataset)\n",
        "df.shape"
      ],
      "metadata": {
        "colab": {
          "base_uri": "https://localhost:8080/"
        },
        "id": "ahwlvbwrXjA1",
        "outputId": "714e7976-b9f1-4ed4-e371-d2c114d52518"
      },
      "execution_count": null,
      "outputs": [
        {
          "output_type": "execute_result",
          "data": {
            "text/plain": [
              "(4072, 9)"
            ]
          },
          "metadata": {},
          "execution_count": 4
        }
      ]
    },
    {
      "cell_type": "code",
      "source": [
        "df.head(10)"
      ],
      "metadata": {
        "colab": {
          "base_uri": "https://localhost:8080/",
          "height": 363
        },
        "id": "iPkxRjE0Ws4K",
        "outputId": "81488541-c622-4e2a-b2e3-0f090398c137"
      },
      "execution_count": null,
      "outputs": [
        {
          "output_type": "execute_result",
          "data": {
            "text/plain": [
              "              file  width  height  depth          name  xmin  ymin  xmax  ymax\n",
              "0    maksssksksss0    512     366      3  without_mask    79   105   109   142\n",
              "1    maksssksksss0    512     366      3     with_mask   185   100   226   144\n",
              "2    maksssksksss0    512     366      3  without_mask   325    90   360   141\n",
              "3   maksssksksss10    301     400      3     with_mask    98   267   194   383\n",
              "4  maksssksksss100    400     226      3     with_mask   189    30   245    88\n",
              "5  maksssksksss100    400     226      3     with_mask   387    54   400    75\n",
              "6  maksssksksss100    400     226      3     with_mask   118    87   163   126\n",
              "7    maksssksksss1    400     156      3     with_mask   321    34   354    69\n",
              "8    maksssksksss1    400     156      3     with_mask   224    38   261    73\n",
              "9    maksssksksss1    400     156      3     with_mask   299    58   315    81"
            ],
            "text/html": [
              "\n",
              "  <div id=\"df-f47b45e3-b7d6-4261-bedd-44f16aac1f27\" class=\"colab-df-container\">\n",
              "    <div>\n",
              "<style scoped>\n",
              "    .dataframe tbody tr th:only-of-type {\n",
              "        vertical-align: middle;\n",
              "    }\n",
              "\n",
              "    .dataframe tbody tr th {\n",
              "        vertical-align: top;\n",
              "    }\n",
              "\n",
              "    .dataframe thead th {\n",
              "        text-align: right;\n",
              "    }\n",
              "</style>\n",
              "<table border=\"1\" class=\"dataframe\">\n",
              "  <thead>\n",
              "    <tr style=\"text-align: right;\">\n",
              "      <th></th>\n",
              "      <th>file</th>\n",
              "      <th>width</th>\n",
              "      <th>height</th>\n",
              "      <th>depth</th>\n",
              "      <th>name</th>\n",
              "      <th>xmin</th>\n",
              "      <th>ymin</th>\n",
              "      <th>xmax</th>\n",
              "      <th>ymax</th>\n",
              "    </tr>\n",
              "  </thead>\n",
              "  <tbody>\n",
              "    <tr>\n",
              "      <th>0</th>\n",
              "      <td>maksssksksss0</td>\n",
              "      <td>512</td>\n",
              "      <td>366</td>\n",
              "      <td>3</td>\n",
              "      <td>without_mask</td>\n",
              "      <td>79</td>\n",
              "      <td>105</td>\n",
              "      <td>109</td>\n",
              "      <td>142</td>\n",
              "    </tr>\n",
              "    <tr>\n",
              "      <th>1</th>\n",
              "      <td>maksssksksss0</td>\n",
              "      <td>512</td>\n",
              "      <td>366</td>\n",
              "      <td>3</td>\n",
              "      <td>with_mask</td>\n",
              "      <td>185</td>\n",
              "      <td>100</td>\n",
              "      <td>226</td>\n",
              "      <td>144</td>\n",
              "    </tr>\n",
              "    <tr>\n",
              "      <th>2</th>\n",
              "      <td>maksssksksss0</td>\n",
              "      <td>512</td>\n",
              "      <td>366</td>\n",
              "      <td>3</td>\n",
              "      <td>without_mask</td>\n",
              "      <td>325</td>\n",
              "      <td>90</td>\n",
              "      <td>360</td>\n",
              "      <td>141</td>\n",
              "    </tr>\n",
              "    <tr>\n",
              "      <th>3</th>\n",
              "      <td>maksssksksss10</td>\n",
              "      <td>301</td>\n",
              "      <td>400</td>\n",
              "      <td>3</td>\n",
              "      <td>with_mask</td>\n",
              "      <td>98</td>\n",
              "      <td>267</td>\n",
              "      <td>194</td>\n",
              "      <td>383</td>\n",
              "    </tr>\n",
              "    <tr>\n",
              "      <th>4</th>\n",
              "      <td>maksssksksss100</td>\n",
              "      <td>400</td>\n",
              "      <td>226</td>\n",
              "      <td>3</td>\n",
              "      <td>with_mask</td>\n",
              "      <td>189</td>\n",
              "      <td>30</td>\n",
              "      <td>245</td>\n",
              "      <td>88</td>\n",
              "    </tr>\n",
              "    <tr>\n",
              "      <th>5</th>\n",
              "      <td>maksssksksss100</td>\n",
              "      <td>400</td>\n",
              "      <td>226</td>\n",
              "      <td>3</td>\n",
              "      <td>with_mask</td>\n",
              "      <td>387</td>\n",
              "      <td>54</td>\n",
              "      <td>400</td>\n",
              "      <td>75</td>\n",
              "    </tr>\n",
              "    <tr>\n",
              "      <th>6</th>\n",
              "      <td>maksssksksss100</td>\n",
              "      <td>400</td>\n",
              "      <td>226</td>\n",
              "      <td>3</td>\n",
              "      <td>with_mask</td>\n",
              "      <td>118</td>\n",
              "      <td>87</td>\n",
              "      <td>163</td>\n",
              "      <td>126</td>\n",
              "    </tr>\n",
              "    <tr>\n",
              "      <th>7</th>\n",
              "      <td>maksssksksss1</td>\n",
              "      <td>400</td>\n",
              "      <td>156</td>\n",
              "      <td>3</td>\n",
              "      <td>with_mask</td>\n",
              "      <td>321</td>\n",
              "      <td>34</td>\n",
              "      <td>354</td>\n",
              "      <td>69</td>\n",
              "    </tr>\n",
              "    <tr>\n",
              "      <th>8</th>\n",
              "      <td>maksssksksss1</td>\n",
              "      <td>400</td>\n",
              "      <td>156</td>\n",
              "      <td>3</td>\n",
              "      <td>with_mask</td>\n",
              "      <td>224</td>\n",
              "      <td>38</td>\n",
              "      <td>261</td>\n",
              "      <td>73</td>\n",
              "    </tr>\n",
              "    <tr>\n",
              "      <th>9</th>\n",
              "      <td>maksssksksss1</td>\n",
              "      <td>400</td>\n",
              "      <td>156</td>\n",
              "      <td>3</td>\n",
              "      <td>with_mask</td>\n",
              "      <td>299</td>\n",
              "      <td>58</td>\n",
              "      <td>315</td>\n",
              "      <td>81</td>\n",
              "    </tr>\n",
              "  </tbody>\n",
              "</table>\n",
              "</div>\n",
              "    <div class=\"colab-df-buttons\">\n",
              "\n",
              "  <div class=\"colab-df-container\">\n",
              "    <button class=\"colab-df-convert\" onclick=\"convertToInteractive('df-f47b45e3-b7d6-4261-bedd-44f16aac1f27')\"\n",
              "            title=\"Convert this dataframe to an interactive table.\"\n",
              "            style=\"display:none;\">\n",
              "\n",
              "  <svg xmlns=\"http://www.w3.org/2000/svg\" height=\"24px\" viewBox=\"0 -960 960 960\">\n",
              "    <path d=\"M120-120v-720h720v720H120Zm60-500h600v-160H180v160Zm220 220h160v-160H400v160Zm0 220h160v-160H400v160ZM180-400h160v-160H180v160Zm440 0h160v-160H620v160ZM180-180h160v-160H180v160Zm440 0h160v-160H620v160Z\"/>\n",
              "  </svg>\n",
              "    </button>\n",
              "\n",
              "  <style>\n",
              "    .colab-df-container {\n",
              "      display:flex;\n",
              "      gap: 12px;\n",
              "    }\n",
              "\n",
              "    .colab-df-convert {\n",
              "      background-color: #E8F0FE;\n",
              "      border: none;\n",
              "      border-radius: 50%;\n",
              "      cursor: pointer;\n",
              "      display: none;\n",
              "      fill: #1967D2;\n",
              "      height: 32px;\n",
              "      padding: 0 0 0 0;\n",
              "      width: 32px;\n",
              "    }\n",
              "\n",
              "    .colab-df-convert:hover {\n",
              "      background-color: #E2EBFA;\n",
              "      box-shadow: 0px 1px 2px rgba(60, 64, 67, 0.3), 0px 1px 3px 1px rgba(60, 64, 67, 0.15);\n",
              "      fill: #174EA6;\n",
              "    }\n",
              "\n",
              "    .colab-df-buttons div {\n",
              "      margin-bottom: 4px;\n",
              "    }\n",
              "\n",
              "    [theme=dark] .colab-df-convert {\n",
              "      background-color: #3B4455;\n",
              "      fill: #D2E3FC;\n",
              "    }\n",
              "\n",
              "    [theme=dark] .colab-df-convert:hover {\n",
              "      background-color: #434B5C;\n",
              "      box-shadow: 0px 1px 3px 1px rgba(0, 0, 0, 0.15);\n",
              "      filter: drop-shadow(0px 1px 2px rgba(0, 0, 0, 0.3));\n",
              "      fill: #FFFFFF;\n",
              "    }\n",
              "  </style>\n",
              "\n",
              "    <script>\n",
              "      const buttonEl =\n",
              "        document.querySelector('#df-f47b45e3-b7d6-4261-bedd-44f16aac1f27 button.colab-df-convert');\n",
              "      buttonEl.style.display =\n",
              "        google.colab.kernel.accessAllowed ? 'block' : 'none';\n",
              "\n",
              "      async function convertToInteractive(key) {\n",
              "        const element = document.querySelector('#df-f47b45e3-b7d6-4261-bedd-44f16aac1f27');\n",
              "        const dataTable =\n",
              "          await google.colab.kernel.invokeFunction('convertToInteractive',\n",
              "                                                    [key], {});\n",
              "        if (!dataTable) return;\n",
              "\n",
              "        const docLinkHtml = 'Like what you see? Visit the ' +\n",
              "          '<a target=\"_blank\" href=https://colab.research.google.com/notebooks/data_table.ipynb>data table notebook</a>'\n",
              "          + ' to learn more about interactive tables.';\n",
              "        element.innerHTML = '';\n",
              "        dataTable['output_type'] = 'display_data';\n",
              "        await google.colab.output.renderOutput(dataTable, element);\n",
              "        const docLink = document.createElement('div');\n",
              "        docLink.innerHTML = docLinkHtml;\n",
              "        element.appendChild(docLink);\n",
              "      }\n",
              "    </script>\n",
              "  </div>\n",
              "\n",
              "\n",
              "<div id=\"df-3f3f05f7-ef75-4c2b-85da-e89818cb2626\">\n",
              "  <button class=\"colab-df-quickchart\" onclick=\"quickchart('df-3f3f05f7-ef75-4c2b-85da-e89818cb2626')\"\n",
              "            title=\"Suggest charts\"\n",
              "            style=\"display:none;\">\n",
              "\n",
              "<svg xmlns=\"http://www.w3.org/2000/svg\" height=\"24px\"viewBox=\"0 0 24 24\"\n",
              "     width=\"24px\">\n",
              "    <g>\n",
              "        <path d=\"M19 3H5c-1.1 0-2 .9-2 2v14c0 1.1.9 2 2 2h14c1.1 0 2-.9 2-2V5c0-1.1-.9-2-2-2zM9 17H7v-7h2v7zm4 0h-2V7h2v10zm4 0h-2v-4h2v4z\"/>\n",
              "    </g>\n",
              "</svg>\n",
              "  </button>\n",
              "\n",
              "<style>\n",
              "  .colab-df-quickchart {\n",
              "      --bg-color: #E8F0FE;\n",
              "      --fill-color: #1967D2;\n",
              "      --hover-bg-color: #E2EBFA;\n",
              "      --hover-fill-color: #174EA6;\n",
              "      --disabled-fill-color: #AAA;\n",
              "      --disabled-bg-color: #DDD;\n",
              "  }\n",
              "\n",
              "  [theme=dark] .colab-df-quickchart {\n",
              "      --bg-color: #3B4455;\n",
              "      --fill-color: #D2E3FC;\n",
              "      --hover-bg-color: #434B5C;\n",
              "      --hover-fill-color: #FFFFFF;\n",
              "      --disabled-bg-color: #3B4455;\n",
              "      --disabled-fill-color: #666;\n",
              "  }\n",
              "\n",
              "  .colab-df-quickchart {\n",
              "    background-color: var(--bg-color);\n",
              "    border: none;\n",
              "    border-radius: 50%;\n",
              "    cursor: pointer;\n",
              "    display: none;\n",
              "    fill: var(--fill-color);\n",
              "    height: 32px;\n",
              "    padding: 0;\n",
              "    width: 32px;\n",
              "  }\n",
              "\n",
              "  .colab-df-quickchart:hover {\n",
              "    background-color: var(--hover-bg-color);\n",
              "    box-shadow: 0 1px 2px rgba(60, 64, 67, 0.3), 0 1px 3px 1px rgba(60, 64, 67, 0.15);\n",
              "    fill: var(--button-hover-fill-color);\n",
              "  }\n",
              "\n",
              "  .colab-df-quickchart-complete:disabled,\n",
              "  .colab-df-quickchart-complete:disabled:hover {\n",
              "    background-color: var(--disabled-bg-color);\n",
              "    fill: var(--disabled-fill-color);\n",
              "    box-shadow: none;\n",
              "  }\n",
              "\n",
              "  .colab-df-spinner {\n",
              "    border: 2px solid var(--fill-color);\n",
              "    border-color: transparent;\n",
              "    border-bottom-color: var(--fill-color);\n",
              "    animation:\n",
              "      spin 1s steps(1) infinite;\n",
              "  }\n",
              "\n",
              "  @keyframes spin {\n",
              "    0% {\n",
              "      border-color: transparent;\n",
              "      border-bottom-color: var(--fill-color);\n",
              "      border-left-color: var(--fill-color);\n",
              "    }\n",
              "    20% {\n",
              "      border-color: transparent;\n",
              "      border-left-color: var(--fill-color);\n",
              "      border-top-color: var(--fill-color);\n",
              "    }\n",
              "    30% {\n",
              "      border-color: transparent;\n",
              "      border-left-color: var(--fill-color);\n",
              "      border-top-color: var(--fill-color);\n",
              "      border-right-color: var(--fill-color);\n",
              "    }\n",
              "    40% {\n",
              "      border-color: transparent;\n",
              "      border-right-color: var(--fill-color);\n",
              "      border-top-color: var(--fill-color);\n",
              "    }\n",
              "    60% {\n",
              "      border-color: transparent;\n",
              "      border-right-color: var(--fill-color);\n",
              "    }\n",
              "    80% {\n",
              "      border-color: transparent;\n",
              "      border-right-color: var(--fill-color);\n",
              "      border-bottom-color: var(--fill-color);\n",
              "    }\n",
              "    90% {\n",
              "      border-color: transparent;\n",
              "      border-bottom-color: var(--fill-color);\n",
              "    }\n",
              "  }\n",
              "</style>\n",
              "\n",
              "  <script>\n",
              "    async function quickchart(key) {\n",
              "      const quickchartButtonEl =\n",
              "        document.querySelector('#' + key + ' button');\n",
              "      quickchartButtonEl.disabled = true;  // To prevent multiple clicks.\n",
              "      quickchartButtonEl.classList.add('colab-df-spinner');\n",
              "      try {\n",
              "        const charts = await google.colab.kernel.invokeFunction(\n",
              "            'suggestCharts', [key], {});\n",
              "      } catch (error) {\n",
              "        console.error('Error during call to suggestCharts:', error);\n",
              "      }\n",
              "      quickchartButtonEl.classList.remove('colab-df-spinner');\n",
              "      quickchartButtonEl.classList.add('colab-df-quickchart-complete');\n",
              "    }\n",
              "    (() => {\n",
              "      let quickchartButtonEl =\n",
              "        document.querySelector('#df-3f3f05f7-ef75-4c2b-85da-e89818cb2626 button');\n",
              "      quickchartButtonEl.style.display =\n",
              "        google.colab.kernel.accessAllowed ? 'block' : 'none';\n",
              "    })();\n",
              "  </script>\n",
              "</div>\n",
              "\n",
              "    </div>\n",
              "  </div>\n"
            ],
            "application/vnd.google.colaboratory.intrinsic+json": {
              "type": "dataframe",
              "variable_name": "df",
              "summary": "{\n  \"name\": \"df\",\n  \"rows\": 4072,\n  \"fields\": [\n    {\n      \"column\": \"file\",\n      \"properties\": {\n        \"dtype\": \"category\",\n        \"num_unique_values\": 853,\n        \"samples\": [\n          \"maksssksksss176\",\n          \"maksssksksss485\",\n          \"maksssksksss288\"\n        ],\n        \"semantic_type\": \"\",\n        \"description\": \"\"\n      }\n    },\n    {\n      \"column\": \"width\",\n      \"properties\": {\n        \"dtype\": \"number\",\n        \"std\": 35,\n        \"min\": 193,\n        \"max\": 600,\n        \"num_unique_values\": 39,\n        \"samples\": [\n          560,\n          251,\n          600\n        ],\n        \"semantic_type\": \"\",\n        \"description\": \"\"\n      }\n    },\n    {\n      \"column\": \"height\",\n      \"properties\": {\n        \"dtype\": \"number\",\n        \"std\": 52,\n        \"min\": 156,\n        \"max\": 600,\n        \"num_unique_values\": 104,\n        \"samples\": [\n          276,\n          280,\n          311\n        ],\n        \"semantic_type\": \"\",\n        \"description\": \"\"\n      }\n    },\n    {\n      \"column\": \"depth\",\n      \"properties\": {\n        \"dtype\": \"number\",\n        \"std\": 0,\n        \"min\": 3,\n        \"max\": 3,\n        \"num_unique_values\": 1,\n        \"samples\": [\n          3\n        ],\n        \"semantic_type\": \"\",\n        \"description\": \"\"\n      }\n    },\n    {\n      \"column\": \"name\",\n      \"properties\": {\n        \"dtype\": \"category\",\n        \"num_unique_values\": 3,\n        \"samples\": [\n          \"without_mask\"\n        ],\n        \"semantic_type\": \"\",\n        \"description\": \"\"\n      }\n    },\n    {\n      \"column\": \"xmin\",\n      \"properties\": {\n        \"dtype\": \"number\",\n        \"std\": 104,\n        \"min\": 1,\n        \"max\": 569,\n        \"num_unique_values\": 406,\n        \"samples\": [\n          138\n        ],\n        \"semantic_type\": \"\",\n        \"description\": \"\"\n      }\n    },\n    {\n      \"column\": \"ymin\",\n      \"properties\": {\n        \"dtype\": \"number\",\n        \"std\": 52,\n        \"min\": 1,\n        \"max\": 330,\n        \"num_unique_values\": 270,\n        \"samples\": [\n          57\n        ],\n        \"semantic_type\": \"\",\n        \"description\": \"\"\n      }\n    },\n    {\n      \"column\": \"xmax\",\n      \"properties\": {\n        \"dtype\": \"number\",\n        \"std\": 102,\n        \"min\": 8,\n        \"max\": 592,\n        \"num_unique_values\": 411,\n        \"samples\": [\n          283\n        ],\n        \"semantic_type\": \"\",\n        \"description\": \"\"\n      }\n    },\n    {\n      \"column\": \"ymax\",\n      \"properties\": {\n        \"dtype\": \"number\",\n        \"std\": 70,\n        \"min\": 6,\n        \"max\": 495,\n        \"num_unique_values\": 356,\n        \"samples\": [\n          237\n        ],\n        \"semantic_type\": \"\",\n        \"description\": \"\"\n      }\n    }\n  ]\n}"
            }
          },
          "metadata": {},
          "execution_count": 5
        }
      ]
    },
    {
      "cell_type": "code",
      "source": [
        "df"
      ],
      "metadata": {
        "colab": {
          "base_uri": "https://localhost:8080/",
          "height": 423
        },
        "id": "AFB01fK4XwZn",
        "outputId": "5dab2b72-c7ab-46a5-bd5f-9cea4f5ecf8d"
      },
      "execution_count": null,
      "outputs": [
        {
          "output_type": "execute_result",
          "data": {
            "text/plain": [
              "                 file  width  height  depth          name  xmin  ymin  xmax  \\\n",
              "0       maksssksksss0    512     366      3  without_mask    79   105   109   \n",
              "1       maksssksksss0    512     366      3     with_mask   185   100   226   \n",
              "2       maksssksksss0    512     366      3  without_mask   325    90   360   \n",
              "3      maksssksksss10    301     400      3     with_mask    98   267   194   \n",
              "4     maksssksksss100    400     226      3     with_mask   189    30   245   \n",
              "...               ...    ...     ...    ...           ...   ...   ...   ...   \n",
              "4067   maksssksksss90    400     267      3     with_mask   214    51   252   \n",
              "4068   maksssksksss90    400     267      3     with_mask   199   126   239   \n",
              "4069   maksssksksss90    400     267      3     with_mask   245    19   273   \n",
              "4070   maksssksksss90    400     267      3     with_mask   311    37   339   \n",
              "4071   maksssksksss90    400     267      3     with_mask   272    33   292   \n",
              "\n",
              "      ymax  \n",
              "0      142  \n",
              "1      144  \n",
              "2      141  \n",
              "3      383  \n",
              "4       88  \n",
              "...    ...  \n",
              "4067    96  \n",
              "4068   174  \n",
              "4069    46  \n",
              "4070    72  \n",
              "4071    55  \n",
              "\n",
              "[4072 rows x 9 columns]"
            ],
            "text/html": [
              "\n",
              "  <div id=\"df-fff51927-9687-4d87-8f59-fb7408fd33d6\" class=\"colab-df-container\">\n",
              "    <div>\n",
              "<style scoped>\n",
              "    .dataframe tbody tr th:only-of-type {\n",
              "        vertical-align: middle;\n",
              "    }\n",
              "\n",
              "    .dataframe tbody tr th {\n",
              "        vertical-align: top;\n",
              "    }\n",
              "\n",
              "    .dataframe thead th {\n",
              "        text-align: right;\n",
              "    }\n",
              "</style>\n",
              "<table border=\"1\" class=\"dataframe\">\n",
              "  <thead>\n",
              "    <tr style=\"text-align: right;\">\n",
              "      <th></th>\n",
              "      <th>file</th>\n",
              "      <th>width</th>\n",
              "      <th>height</th>\n",
              "      <th>depth</th>\n",
              "      <th>name</th>\n",
              "      <th>xmin</th>\n",
              "      <th>ymin</th>\n",
              "      <th>xmax</th>\n",
              "      <th>ymax</th>\n",
              "    </tr>\n",
              "  </thead>\n",
              "  <tbody>\n",
              "    <tr>\n",
              "      <th>0</th>\n",
              "      <td>maksssksksss0</td>\n",
              "      <td>512</td>\n",
              "      <td>366</td>\n",
              "      <td>3</td>\n",
              "      <td>without_mask</td>\n",
              "      <td>79</td>\n",
              "      <td>105</td>\n",
              "      <td>109</td>\n",
              "      <td>142</td>\n",
              "    </tr>\n",
              "    <tr>\n",
              "      <th>1</th>\n",
              "      <td>maksssksksss0</td>\n",
              "      <td>512</td>\n",
              "      <td>366</td>\n",
              "      <td>3</td>\n",
              "      <td>with_mask</td>\n",
              "      <td>185</td>\n",
              "      <td>100</td>\n",
              "      <td>226</td>\n",
              "      <td>144</td>\n",
              "    </tr>\n",
              "    <tr>\n",
              "      <th>2</th>\n",
              "      <td>maksssksksss0</td>\n",
              "      <td>512</td>\n",
              "      <td>366</td>\n",
              "      <td>3</td>\n",
              "      <td>without_mask</td>\n",
              "      <td>325</td>\n",
              "      <td>90</td>\n",
              "      <td>360</td>\n",
              "      <td>141</td>\n",
              "    </tr>\n",
              "    <tr>\n",
              "      <th>3</th>\n",
              "      <td>maksssksksss10</td>\n",
              "      <td>301</td>\n",
              "      <td>400</td>\n",
              "      <td>3</td>\n",
              "      <td>with_mask</td>\n",
              "      <td>98</td>\n",
              "      <td>267</td>\n",
              "      <td>194</td>\n",
              "      <td>383</td>\n",
              "    </tr>\n",
              "    <tr>\n",
              "      <th>4</th>\n",
              "      <td>maksssksksss100</td>\n",
              "      <td>400</td>\n",
              "      <td>226</td>\n",
              "      <td>3</td>\n",
              "      <td>with_mask</td>\n",
              "      <td>189</td>\n",
              "      <td>30</td>\n",
              "      <td>245</td>\n",
              "      <td>88</td>\n",
              "    </tr>\n",
              "    <tr>\n",
              "      <th>...</th>\n",
              "      <td>...</td>\n",
              "      <td>...</td>\n",
              "      <td>...</td>\n",
              "      <td>...</td>\n",
              "      <td>...</td>\n",
              "      <td>...</td>\n",
              "      <td>...</td>\n",
              "      <td>...</td>\n",
              "      <td>...</td>\n",
              "    </tr>\n",
              "    <tr>\n",
              "      <th>4067</th>\n",
              "      <td>maksssksksss90</td>\n",
              "      <td>400</td>\n",
              "      <td>267</td>\n",
              "      <td>3</td>\n",
              "      <td>with_mask</td>\n",
              "      <td>214</td>\n",
              "      <td>51</td>\n",
              "      <td>252</td>\n",
              "      <td>96</td>\n",
              "    </tr>\n",
              "    <tr>\n",
              "      <th>4068</th>\n",
              "      <td>maksssksksss90</td>\n",
              "      <td>400</td>\n",
              "      <td>267</td>\n",
              "      <td>3</td>\n",
              "      <td>with_mask</td>\n",
              "      <td>199</td>\n",
              "      <td>126</td>\n",
              "      <td>239</td>\n",
              "      <td>174</td>\n",
              "    </tr>\n",
              "    <tr>\n",
              "      <th>4069</th>\n",
              "      <td>maksssksksss90</td>\n",
              "      <td>400</td>\n",
              "      <td>267</td>\n",
              "      <td>3</td>\n",
              "      <td>with_mask</td>\n",
              "      <td>245</td>\n",
              "      <td>19</td>\n",
              "      <td>273</td>\n",
              "      <td>46</td>\n",
              "    </tr>\n",
              "    <tr>\n",
              "      <th>4070</th>\n",
              "      <td>maksssksksss90</td>\n",
              "      <td>400</td>\n",
              "      <td>267</td>\n",
              "      <td>3</td>\n",
              "      <td>with_mask</td>\n",
              "      <td>311</td>\n",
              "      <td>37</td>\n",
              "      <td>339</td>\n",
              "      <td>72</td>\n",
              "    </tr>\n",
              "    <tr>\n",
              "      <th>4071</th>\n",
              "      <td>maksssksksss90</td>\n",
              "      <td>400</td>\n",
              "      <td>267</td>\n",
              "      <td>3</td>\n",
              "      <td>with_mask</td>\n",
              "      <td>272</td>\n",
              "      <td>33</td>\n",
              "      <td>292</td>\n",
              "      <td>55</td>\n",
              "    </tr>\n",
              "  </tbody>\n",
              "</table>\n",
              "<p>4072 rows × 9 columns</p>\n",
              "</div>\n",
              "    <div class=\"colab-df-buttons\">\n",
              "\n",
              "  <div class=\"colab-df-container\">\n",
              "    <button class=\"colab-df-convert\" onclick=\"convertToInteractive('df-fff51927-9687-4d87-8f59-fb7408fd33d6')\"\n",
              "            title=\"Convert this dataframe to an interactive table.\"\n",
              "            style=\"display:none;\">\n",
              "\n",
              "  <svg xmlns=\"http://www.w3.org/2000/svg\" height=\"24px\" viewBox=\"0 -960 960 960\">\n",
              "    <path d=\"M120-120v-720h720v720H120Zm60-500h600v-160H180v160Zm220 220h160v-160H400v160Zm0 220h160v-160H400v160ZM180-400h160v-160H180v160Zm440 0h160v-160H620v160ZM180-180h160v-160H180v160Zm440 0h160v-160H620v160Z\"/>\n",
              "  </svg>\n",
              "    </button>\n",
              "\n",
              "  <style>\n",
              "    .colab-df-container {\n",
              "      display:flex;\n",
              "      gap: 12px;\n",
              "    }\n",
              "\n",
              "    .colab-df-convert {\n",
              "      background-color: #E8F0FE;\n",
              "      border: none;\n",
              "      border-radius: 50%;\n",
              "      cursor: pointer;\n",
              "      display: none;\n",
              "      fill: #1967D2;\n",
              "      height: 32px;\n",
              "      padding: 0 0 0 0;\n",
              "      width: 32px;\n",
              "    }\n",
              "\n",
              "    .colab-df-convert:hover {\n",
              "      background-color: #E2EBFA;\n",
              "      box-shadow: 0px 1px 2px rgba(60, 64, 67, 0.3), 0px 1px 3px 1px rgba(60, 64, 67, 0.15);\n",
              "      fill: #174EA6;\n",
              "    }\n",
              "\n",
              "    .colab-df-buttons div {\n",
              "      margin-bottom: 4px;\n",
              "    }\n",
              "\n",
              "    [theme=dark] .colab-df-convert {\n",
              "      background-color: #3B4455;\n",
              "      fill: #D2E3FC;\n",
              "    }\n",
              "\n",
              "    [theme=dark] .colab-df-convert:hover {\n",
              "      background-color: #434B5C;\n",
              "      box-shadow: 0px 1px 3px 1px rgba(0, 0, 0, 0.15);\n",
              "      filter: drop-shadow(0px 1px 2px rgba(0, 0, 0, 0.3));\n",
              "      fill: #FFFFFF;\n",
              "    }\n",
              "  </style>\n",
              "\n",
              "    <script>\n",
              "      const buttonEl =\n",
              "        document.querySelector('#df-fff51927-9687-4d87-8f59-fb7408fd33d6 button.colab-df-convert');\n",
              "      buttonEl.style.display =\n",
              "        google.colab.kernel.accessAllowed ? 'block' : 'none';\n",
              "\n",
              "      async function convertToInteractive(key) {\n",
              "        const element = document.querySelector('#df-fff51927-9687-4d87-8f59-fb7408fd33d6');\n",
              "        const dataTable =\n",
              "          await google.colab.kernel.invokeFunction('convertToInteractive',\n",
              "                                                    [key], {});\n",
              "        if (!dataTable) return;\n",
              "\n",
              "        const docLinkHtml = 'Like what you see? Visit the ' +\n",
              "          '<a target=\"_blank\" href=https://colab.research.google.com/notebooks/data_table.ipynb>data table notebook</a>'\n",
              "          + ' to learn more about interactive tables.';\n",
              "        element.innerHTML = '';\n",
              "        dataTable['output_type'] = 'display_data';\n",
              "        await google.colab.output.renderOutput(dataTable, element);\n",
              "        const docLink = document.createElement('div');\n",
              "        docLink.innerHTML = docLinkHtml;\n",
              "        element.appendChild(docLink);\n",
              "      }\n",
              "    </script>\n",
              "  </div>\n",
              "\n",
              "\n",
              "<div id=\"df-b7acdd74-c3e4-4455-a6f1-c8da9970052b\">\n",
              "  <button class=\"colab-df-quickchart\" onclick=\"quickchart('df-b7acdd74-c3e4-4455-a6f1-c8da9970052b')\"\n",
              "            title=\"Suggest charts\"\n",
              "            style=\"display:none;\">\n",
              "\n",
              "<svg xmlns=\"http://www.w3.org/2000/svg\" height=\"24px\"viewBox=\"0 0 24 24\"\n",
              "     width=\"24px\">\n",
              "    <g>\n",
              "        <path d=\"M19 3H5c-1.1 0-2 .9-2 2v14c0 1.1.9 2 2 2h14c1.1 0 2-.9 2-2V5c0-1.1-.9-2-2-2zM9 17H7v-7h2v7zm4 0h-2V7h2v10zm4 0h-2v-4h2v4z\"/>\n",
              "    </g>\n",
              "</svg>\n",
              "  </button>\n",
              "\n",
              "<style>\n",
              "  .colab-df-quickchart {\n",
              "      --bg-color: #E8F0FE;\n",
              "      --fill-color: #1967D2;\n",
              "      --hover-bg-color: #E2EBFA;\n",
              "      --hover-fill-color: #174EA6;\n",
              "      --disabled-fill-color: #AAA;\n",
              "      --disabled-bg-color: #DDD;\n",
              "  }\n",
              "\n",
              "  [theme=dark] .colab-df-quickchart {\n",
              "      --bg-color: #3B4455;\n",
              "      --fill-color: #D2E3FC;\n",
              "      --hover-bg-color: #434B5C;\n",
              "      --hover-fill-color: #FFFFFF;\n",
              "      --disabled-bg-color: #3B4455;\n",
              "      --disabled-fill-color: #666;\n",
              "  }\n",
              "\n",
              "  .colab-df-quickchart {\n",
              "    background-color: var(--bg-color);\n",
              "    border: none;\n",
              "    border-radius: 50%;\n",
              "    cursor: pointer;\n",
              "    display: none;\n",
              "    fill: var(--fill-color);\n",
              "    height: 32px;\n",
              "    padding: 0;\n",
              "    width: 32px;\n",
              "  }\n",
              "\n",
              "  .colab-df-quickchart:hover {\n",
              "    background-color: var(--hover-bg-color);\n",
              "    box-shadow: 0 1px 2px rgba(60, 64, 67, 0.3), 0 1px 3px 1px rgba(60, 64, 67, 0.15);\n",
              "    fill: var(--button-hover-fill-color);\n",
              "  }\n",
              "\n",
              "  .colab-df-quickchart-complete:disabled,\n",
              "  .colab-df-quickchart-complete:disabled:hover {\n",
              "    background-color: var(--disabled-bg-color);\n",
              "    fill: var(--disabled-fill-color);\n",
              "    box-shadow: none;\n",
              "  }\n",
              "\n",
              "  .colab-df-spinner {\n",
              "    border: 2px solid var(--fill-color);\n",
              "    border-color: transparent;\n",
              "    border-bottom-color: var(--fill-color);\n",
              "    animation:\n",
              "      spin 1s steps(1) infinite;\n",
              "  }\n",
              "\n",
              "  @keyframes spin {\n",
              "    0% {\n",
              "      border-color: transparent;\n",
              "      border-bottom-color: var(--fill-color);\n",
              "      border-left-color: var(--fill-color);\n",
              "    }\n",
              "    20% {\n",
              "      border-color: transparent;\n",
              "      border-left-color: var(--fill-color);\n",
              "      border-top-color: var(--fill-color);\n",
              "    }\n",
              "    30% {\n",
              "      border-color: transparent;\n",
              "      border-left-color: var(--fill-color);\n",
              "      border-top-color: var(--fill-color);\n",
              "      border-right-color: var(--fill-color);\n",
              "    }\n",
              "    40% {\n",
              "      border-color: transparent;\n",
              "      border-right-color: var(--fill-color);\n",
              "      border-top-color: var(--fill-color);\n",
              "    }\n",
              "    60% {\n",
              "      border-color: transparent;\n",
              "      border-right-color: var(--fill-color);\n",
              "    }\n",
              "    80% {\n",
              "      border-color: transparent;\n",
              "      border-right-color: var(--fill-color);\n",
              "      border-bottom-color: var(--fill-color);\n",
              "    }\n",
              "    90% {\n",
              "      border-color: transparent;\n",
              "      border-bottom-color: var(--fill-color);\n",
              "    }\n",
              "  }\n",
              "</style>\n",
              "\n",
              "  <script>\n",
              "    async function quickchart(key) {\n",
              "      const quickchartButtonEl =\n",
              "        document.querySelector('#' + key + ' button');\n",
              "      quickchartButtonEl.disabled = true;  // To prevent multiple clicks.\n",
              "      quickchartButtonEl.classList.add('colab-df-spinner');\n",
              "      try {\n",
              "        const charts = await google.colab.kernel.invokeFunction(\n",
              "            'suggestCharts', [key], {});\n",
              "      } catch (error) {\n",
              "        console.error('Error during call to suggestCharts:', error);\n",
              "      }\n",
              "      quickchartButtonEl.classList.remove('colab-df-spinner');\n",
              "      quickchartButtonEl.classList.add('colab-df-quickchart-complete');\n",
              "    }\n",
              "    (() => {\n",
              "      let quickchartButtonEl =\n",
              "        document.querySelector('#df-b7acdd74-c3e4-4455-a6f1-c8da9970052b button');\n",
              "      quickchartButtonEl.style.display =\n",
              "        google.colab.kernel.accessAllowed ? 'block' : 'none';\n",
              "    })();\n",
              "  </script>\n",
              "</div>\n",
              "\n",
              "  <div id=\"id_66e0050b-f77e-44a5-a8a0-32be78bebd6d\">\n",
              "    <style>\n",
              "      .colab-df-generate {\n",
              "        background-color: #E8F0FE;\n",
              "        border: none;\n",
              "        border-radius: 50%;\n",
              "        cursor: pointer;\n",
              "        display: none;\n",
              "        fill: #1967D2;\n",
              "        height: 32px;\n",
              "        padding: 0 0 0 0;\n",
              "        width: 32px;\n",
              "      }\n",
              "\n",
              "      .colab-df-generate:hover {\n",
              "        background-color: #E2EBFA;\n",
              "        box-shadow: 0px 1px 2px rgba(60, 64, 67, 0.3), 0px 1px 3px 1px rgba(60, 64, 67, 0.15);\n",
              "        fill: #174EA6;\n",
              "      }\n",
              "\n",
              "      [theme=dark] .colab-df-generate {\n",
              "        background-color: #3B4455;\n",
              "        fill: #D2E3FC;\n",
              "      }\n",
              "\n",
              "      [theme=dark] .colab-df-generate:hover {\n",
              "        background-color: #434B5C;\n",
              "        box-shadow: 0px 1px 3px 1px rgba(0, 0, 0, 0.15);\n",
              "        filter: drop-shadow(0px 1px 2px rgba(0, 0, 0, 0.3));\n",
              "        fill: #FFFFFF;\n",
              "      }\n",
              "    </style>\n",
              "    <button class=\"colab-df-generate\" onclick=\"generateWithVariable('df')\"\n",
              "            title=\"Generate code using this dataframe.\"\n",
              "            style=\"display:none;\">\n",
              "\n",
              "  <svg xmlns=\"http://www.w3.org/2000/svg\" height=\"24px\"viewBox=\"0 0 24 24\"\n",
              "       width=\"24px\">\n",
              "    <path d=\"M7,19H8.4L18.45,9,17,7.55,7,17.6ZM5,21V16.75L18.45,3.32a2,2,0,0,1,2.83,0l1.4,1.43a1.91,1.91,0,0,1,.58,1.4,1.91,1.91,0,0,1-.58,1.4L9.25,21ZM18.45,9,17,7.55Zm-12,3A5.31,5.31,0,0,0,4.9,8.1,5.31,5.31,0,0,0,1,6.5,5.31,5.31,0,0,0,4.9,4.9,5.31,5.31,0,0,0,6.5,1,5.31,5.31,0,0,0,8.1,4.9,5.31,5.31,0,0,0,12,6.5,5.46,5.46,0,0,0,6.5,12Z\"/>\n",
              "  </svg>\n",
              "    </button>\n",
              "    <script>\n",
              "      (() => {\n",
              "      const buttonEl =\n",
              "        document.querySelector('#id_66e0050b-f77e-44a5-a8a0-32be78bebd6d button.colab-df-generate');\n",
              "      buttonEl.style.display =\n",
              "        google.colab.kernel.accessAllowed ? 'block' : 'none';\n",
              "\n",
              "      buttonEl.onclick = () => {\n",
              "        google.colab.notebook.generateWithVariable('df');\n",
              "      }\n",
              "      })();\n",
              "    </script>\n",
              "  </div>\n",
              "\n",
              "    </div>\n",
              "  </div>\n"
            ],
            "application/vnd.google.colaboratory.intrinsic+json": {
              "type": "dataframe",
              "variable_name": "df",
              "summary": "{\n  \"name\": \"df\",\n  \"rows\": 4072,\n  \"fields\": [\n    {\n      \"column\": \"file\",\n      \"properties\": {\n        \"dtype\": \"category\",\n        \"num_unique_values\": 853,\n        \"samples\": [\n          \"maksssksksss176\",\n          \"maksssksksss485\",\n          \"maksssksksss288\"\n        ],\n        \"semantic_type\": \"\",\n        \"description\": \"\"\n      }\n    },\n    {\n      \"column\": \"width\",\n      \"properties\": {\n        \"dtype\": \"number\",\n        \"std\": 35,\n        \"min\": 193,\n        \"max\": 600,\n        \"num_unique_values\": 39,\n        \"samples\": [\n          560,\n          251,\n          600\n        ],\n        \"semantic_type\": \"\",\n        \"description\": \"\"\n      }\n    },\n    {\n      \"column\": \"height\",\n      \"properties\": {\n        \"dtype\": \"number\",\n        \"std\": 52,\n        \"min\": 156,\n        \"max\": 600,\n        \"num_unique_values\": 104,\n        \"samples\": [\n          276,\n          280,\n          311\n        ],\n        \"semantic_type\": \"\",\n        \"description\": \"\"\n      }\n    },\n    {\n      \"column\": \"depth\",\n      \"properties\": {\n        \"dtype\": \"number\",\n        \"std\": 0,\n        \"min\": 3,\n        \"max\": 3,\n        \"num_unique_values\": 1,\n        \"samples\": [\n          3\n        ],\n        \"semantic_type\": \"\",\n        \"description\": \"\"\n      }\n    },\n    {\n      \"column\": \"name\",\n      \"properties\": {\n        \"dtype\": \"category\",\n        \"num_unique_values\": 3,\n        \"samples\": [\n          \"without_mask\"\n        ],\n        \"semantic_type\": \"\",\n        \"description\": \"\"\n      }\n    },\n    {\n      \"column\": \"xmin\",\n      \"properties\": {\n        \"dtype\": \"number\",\n        \"std\": 104,\n        \"min\": 1,\n        \"max\": 569,\n        \"num_unique_values\": 406,\n        \"samples\": [\n          138\n        ],\n        \"semantic_type\": \"\",\n        \"description\": \"\"\n      }\n    },\n    {\n      \"column\": \"ymin\",\n      \"properties\": {\n        \"dtype\": \"number\",\n        \"std\": 52,\n        \"min\": 1,\n        \"max\": 330,\n        \"num_unique_values\": 270,\n        \"samples\": [\n          57\n        ],\n        \"semantic_type\": \"\",\n        \"description\": \"\"\n      }\n    },\n    {\n      \"column\": \"xmax\",\n      \"properties\": {\n        \"dtype\": \"number\",\n        \"std\": 102,\n        \"min\": 8,\n        \"max\": 592,\n        \"num_unique_values\": 411,\n        \"samples\": [\n          283\n        ],\n        \"semantic_type\": \"\",\n        \"description\": \"\"\n      }\n    },\n    {\n      \"column\": \"ymax\",\n      \"properties\": {\n        \"dtype\": \"number\",\n        \"std\": 70,\n        \"min\": 6,\n        \"max\": 495,\n        \"num_unique_values\": 356,\n        \"samples\": [\n          237\n        ],\n        \"semantic_type\": \"\",\n        \"description\": \"\"\n      }\n    }\n  ]\n}"
            }
          },
          "metadata": {},
          "execution_count": 6
        }
      ]
    },
    {
      "cell_type": "code",
      "execution_count": null,
      "metadata": {
        "colab": {
          "base_uri": "https://localhost:8080/"
        },
        "id": "ddB780EiXr-a",
        "outputId": "fabd6464-ef1c-44c7-80d4-db7589aedba5"
      },
      "outputs": [
        {
          "output_type": "execute_result",
          "data": {
            "text/plain": [
              "name\n",
              "with_mask                3232\n",
              "without_mask              717\n",
              "mask_weared_incorrect     123\n",
              "Name: count, dtype: int64"
            ]
          },
          "metadata": {},
          "execution_count": 7
        }
      ],
      "source": [
        "df['name'].value_counts()"
      ]
    },
    {
      "cell_type": "markdown",
      "source": [
        "Graphical Representation of Dataset"
      ],
      "metadata": {
        "id": "fd0tMGAiZRwT"
      }
    },
    {
      "cell_type": "code",
      "source": [
        "df[\"name\"].value_counts().plot(kind='barh')\n",
        "plt.xlabel('Count', fontsize = 10, fontweight = 'bold')\n",
        "plt.ylabel('name', fontsize = 10, fontweight = 'bold')"
      ],
      "metadata": {
        "colab": {
          "base_uri": "https://localhost:8080/",
          "height": 466
        },
        "id": "If7ru_NOW1fe",
        "outputId": "46789468-47bc-4ebf-f0c7-13dd402ec7ff"
      },
      "execution_count": null,
      "outputs": [
        {
          "output_type": "execute_result",
          "data": {
            "text/plain": [
              "Text(0, 0.5, 'name')"
            ]
          },
          "metadata": {},
          "execution_count": 9
        },
        {
          "output_type": "display_data",
          "data": {
            "text/plain": [
              "<Figure size 640x480 with 1 Axes>"
            ],
            "image/png": "[encoded data removed]"
          },
          "metadata": {}
        }
      ]
    },
    {
      "cell_type": "markdown",
      "source": [
        "Saving images of each category in my drive"
      ],
      "metadata": {
        "id": "7mzSo6vuZYya"
      }
    },
    {
      "cell_type": "code",
      "source": [
        "labels = df['name'].unique()\n",
        "directory = ['train', 'test', 'val']\n",
        "output_data_path =  '.'\n",
        "\n",
        "import os\n",
        "for label in labels:\n",
        "    for d in directory:\n",
        "        path = os.path.join(output_data_path, d, label)\n",
        "        if not os.path.exists(path):\n",
        "            os.makedirs(path)"
      ],
      "metadata": {
        "id": "Ngd1E6oJYB0d"
      },
      "execution_count": null,
      "outputs": []
    },
    {
      "cell_type": "code",
      "source": [
        "def crop_img(image_path, x_min, y_min, x_max, y_max):\n",
        "    x_shift = (x_max - x_min) * 0.1\n",
        "    y_shift = (y_max - y_min) * 0.1\n",
        "    img = Image.open(image_path)\n",
        "    cropped = img.crop((x_min - x_shift, y_min - y_shift, x_max + x_shift, y_max + y_shift))\n",
        "    return cropped"
      ],
      "metadata": {
        "id": "3f_mHnZUYMjY"
      },
      "execution_count": null,
      "outputs": []
    },
    {
      "cell_type": "code",
      "source": [
        "def extract_faces(image_name, image_info):\n",
        "    faces = []\n",
        "    df_one_img = image_info[image_info['file'] == image_name[:-4]][['xmin', 'ymin', 'xmax', 'ymax', 'name']]\n",
        "    for row_num in range(len(df_one_img)):\n",
        "        x_min, y_min, x_max, y_max, label = df_one_img.iloc[row_num]\n",
        "        image_path = os.path.join(images_data_path, image_name)\n",
        "        faces.append((crop_img(image_path, x_min, y_min, x_max, y_max), label,f'{image_name[:-4]}_{(x_min, y_min)}'))\n",
        "    return faces"
      ],
      "metadata": {
        "id": "RMfkaTsCYUXo"
      },
      "execution_count": null,
      "outputs": []
    },
    {
      "cell_type": "code",
      "source": [
        "cropped_faces = [extract_faces(img, df) for img in images]\n",
        "flat_cropped_faces = sum(cropped_faces, [])\n",
        "with_mask = [(img, image_name) for img, label,image_name in flat_cropped_faces if label == \"with_mask\"]\n",
        "mask_weared_incorrect = [(img, image_name) for img, label,image_name in flat_cropped_faces if label == \"mask_weared_incorrect\"]\n",
        "without_mask = [(img, image_name) for img, label,image_name in flat_cropped_faces if label == \"without_mask\"]"
      ],
      "metadata": {
        "id": "Yb7J_2MRYXwQ"
      },
      "execution_count": null,
      "outputs": []
    },
    {
      "cell_type": "code",
      "source": [
        "print(len(with_mask))\n",
        "print(len(without_mask))\n",
        "print(len(mask_weared_incorrect))\n",
        "print(len(with_mask) + len(without_mask) + len(mask_weared_incorrect))"
      ],
      "metadata": {
        "colab": {
          "base_uri": "https://localhost:8080/"
        },
        "id": "saebM4reYed3",
        "outputId": "8713126f-abbf-4816-dcb7-5706f3706769"
      },
      "execution_count": null,
      "outputs": [
        {
          "output_type": "stream",
          "name": "stdout",
          "text": [
            "3232\n",
            "717\n",
            "123\n",
            "4072\n"
          ]
        }
      ]
    },
    {
      "cell_type": "code",
      "source": [
        "train_with_mask, test_with_mask = train_test_split(with_mask, test_size=0.20, random_state=42)\n",
        "test_with_mask, val_with_mask = train_test_split(test_with_mask, test_size=0.7, random_state=42)\n",
        "\n",
        "train_mask_weared_incorrect, test_mask_weared_incorrect = train_test_split(mask_weared_incorrect, test_size=0.20, random_state=42)\n",
        "test_mask_weared_incorrect, val_mask_weared_incorrect = train_test_split(test_mask_weared_incorrect, test_size=0.7, random_state=42)\n",
        "\n",
        "train_without_mask, test_without_mask = train_test_split(without_mask, test_size=0.20, random_state=42)\n",
        "test_without_mask, val_without_mask = train_test_split(test_without_mask, test_size=0.7, random_state=42)"
      ],
      "metadata": {
        "id": "eGGVYJCzebjw"
      },
      "execution_count": null,
      "outputs": []
    },
    {
      "cell_type": "code",
      "source": [
        "def save_image(image, image_name, output_data_path,  dataset_type, label):\n",
        "    output_path = os.path.join(output_data_path, dataset_type, label ,f'{image_name}.png')\n",
        "    image.save(output_path)"
      ],
      "metadata": {
        "id": "A93dI0tAeuuh"
      },
      "execution_count": null,
      "outputs": []
    },
    {
      "cell_type": "code",
      "source": [
        "for image, image_name in train_with_mask:\n",
        "    save_image(image, image_name, output_data_path, 'train', 'with_mask')\n",
        "\n",
        "for image, image_name in train_mask_weared_incorrect:\n",
        "    save_image(image, image_name, output_data_path, 'train', 'mask_weared_incorrect')\n",
        "\n",
        "for image, image_name in train_without_mask:\n",
        "    save_image(image, image_name, output_data_path, 'train', 'without_mask')\n",
        "\n",
        "for image, image_name in test_with_mask:\n",
        "    save_image(image, image_name, output_data_path, 'test', 'with_mask')\n",
        "\n",
        "for image, image_name in test_mask_weared_incorrect:\n",
        "    save_image(image, image_name, output_data_path, 'test', 'mask_weared_incorrect')\n",
        "\n",
        "for image, image_name in test_without_mask:\n",
        "    save_image(image, image_name, output_data_path, 'test', 'without_mask')\n",
        "\n",
        "for image, image_name in val_with_mask:\n",
        "    save_image(image, image_name, output_data_path, 'val', 'with_mask')\n",
        "\n",
        "for image, image_name in val_without_mask:\n",
        "    save_image(image, image_name, output_data_path, 'val', 'without_mask')\n",
        "\n",
        "for image, image_name in val_mask_weared_incorrect:\n",
        "    save_image(image, image_name, output_data_path, 'val', 'mask_weared_incorrect')"
      ],
      "metadata": {
        "id": "PKoankyiezDA"
      },
      "execution_count": null,
      "outputs": []
    },
    {
      "cell_type": "markdown",
      "source": [
        "Model Architecture"
      ],
      "metadata": {
        "id": "Bh1sHF4rZfMZ"
      }
    },
    {
      "cell_type": "code",
      "source": [
        "model = Sequential()\n",
        "model.add(Conv2D(filters = 16, kernel_size = 3,  padding='same', activation = 'relu', input_shape = (35,35,3)))\n",
        "model.add(MaxPooling2D(pool_size = 2))\n",
        "model.add(Conv2D(filters = 32, kernel_size = 3,  padding='same', activation = 'relu'))\n",
        "model.add(MaxPooling2D(pool_size = 2))\n",
        "model.add(Conv2D(filters = 64, kernel_size = 3,  padding='same', activation = 'relu'))\n",
        "model.add(MaxPooling2D(pool_size = 2))\n",
        "model.add(Dropout(0.3))\n",
        "model.add(Flatten())\n",
        "model.add(Dense(units = 500, activation = 'relu'))\n",
        "model.add(Dropout(0.3))\n",
        "model.add(Dense(units = 3, activation = 'softmax'))\n",
        "\n",
        "model.summary()"
      ],
      "metadata": {
        "colab": {
          "base_uri": "https://localhost:8080/"
        },
        "id": "ACwgxmD4e28p",
        "outputId": "d0405702-5708-405c-9673-ca691fc87685"
      },
      "execution_count": null,
      "outputs": [
        {
          "output_type": "stream",
          "name": "stdout",
          "text": [
            "Model: \"sequential\"\n",
            "_________________________________________________________________\n",
            " Layer (type)                Output Shape              Param #   \n",
            "=================================================================\n",
            " conv2d (Conv2D)             (None, 35, 35, 16)        448       \n",
            "                                                                 \n",
            " max_pooling2d (MaxPooling2  (None, 17, 17, 16)        0         \n",
            " D)                                                              \n",
            "                                                                 \n",
            " conv2d_1 (Conv2D)           (None, 17, 17, 32)        4640      \n",
            "                                                                 \n",
            " max_pooling2d_1 (MaxPoolin  (None, 8, 8, 32)          0         \n",
            " g2D)                                                            \n",
            "                                                                 \n",
            " conv2d_2 (Conv2D)           (None, 8, 8, 64)          18496     \n",
            "                                                                 \n",
            " max_pooling2d_2 (MaxPoolin  (None, 4, 4, 64)          0         \n",
            " g2D)                                                            \n",
            "                                                                 \n",
            " dropout (Dropout)           (None, 4, 4, 64)          0         \n",
            "                                                                 \n",
            " flatten (Flatten)           (None, 1024)              0         \n",
            "                                                                 \n",
            " dense (Dense)               (None, 500)               512500    \n",
            "                                                                 \n",
            " dropout_1 (Dropout)         (None, 500)               0         \n",
            "                                                                 \n",
            " dense_1 (Dense)             (None, 3)                 1503      \n",
            "                                                                 \n",
            "=================================================================\n",
            "Total params: 537587 (2.05 MB)\n",
            "Trainable params: 537587 (2.05 MB)\n",
            "Non-trainable params: 0 (0.00 Byte)\n",
            "_________________________________________________________________\n"
          ]
        }
      ]
    },
    {
      "cell_type": "code",
      "source": [
        "batch_size = 8\n",
        "epochs = 50\n",
        "\n",
        "datagen = ImageDataGenerator(\n",
        "    rescale=1.0 / 255, horizontal_flip=True, zoom_range=0.1, shear_range=0.2, width_shift_range=0.1,\n",
        "    height_shift_range=0.1, rotation_range=4, vertical_flip=False\n",
        "\n",
        ")\n",
        "\n",
        "val_datagen = ImageDataGenerator(\n",
        "    rescale=1.0 / 255\n",
        ")\n",
        "\n",
        "\n",
        "train_generator = datagen.flow_from_directory(\n",
        "    directory='/content/train',\n",
        "    target_size = (35,35),\n",
        "    class_mode=\"categorical\", batch_size=batch_size, shuffle=True\n",
        "\n",
        ")\n",
        "\n",
        "# Validation data\n",
        "val_generator = val_datagen.flow_from_directory(\n",
        "    directory='/content/val',\n",
        "    target_size = (35,35),\n",
        "    class_mode=\"categorical\", batch_size=batch_size, shuffle=True\n",
        ")\n",
        "\n",
        "# Test data\n",
        "test_generator = val_datagen.flow_from_directory(\n",
        "    directory='/content/test',\n",
        "    target_size = (35,35),\n",
        "    class_mode=\"categorical\", batch_size=batch_size, shuffle=False\n",
        ")"
      ],
      "metadata": {
        "colab": {
          "base_uri": "https://localhost:8080/"
        },
        "id": "JI_7swBCfITt",
        "outputId": "0582b25f-c5b2-4fef-dc82-e21635814078"
      },
      "execution_count": null,
      "outputs": [
        {
          "output_type": "stream",
          "name": "stdout",
          "text": [
            "Found 3256 images belonging to 3 classes.\n",
            "Found 572 images belonging to 3 classes.\n",
            "Found 244 images belonging to 3 classes.\n"
          ]
        }
      ]
    },
    {
      "cell_type": "code",
      "source": [
        "data_size = len(train_generator)\n",
        "\n",
        "steps_per_epoch = int(data_size / batch_size)\n",
        "print(f\"steps_per_epoch: {steps_per_epoch}\")\n",
        "\n",
        "val_steps = int(len(val_generator) // batch_size)\n",
        "print(f\"val_steps: {val_steps}\")"
      ],
      "metadata": {
        "colab": {
          "base_uri": "https://localhost:8080/"
        },
        "id": "FUWbZw3gm2f6",
        "outputId": "5d517cdc-ae03-4b90-e90d-b4c02fe22ca3"
      },
      "execution_count": null,
      "outputs": [
        {
          "output_type": "stream",
          "name": "stdout",
          "text": [
            "steps_per_epoch: 50\n",
            "val_steps: 9\n"
          ]
        }
      ]
    },
    {
      "cell_type": "markdown",
      "source": [
        "Training"
      ],
      "metadata": {
        "id": "psnsU4LaZoqp"
      }
    },
    {
      "cell_type": "code",
      "source": [
        "model.compile(\n",
        "    optimizer=\"adam\",\n",
        "    loss=\"categorical_crossentropy\",\n",
        "    metrics=['accuracy', 'Recall', 'Precision', 'AUC']\n",
        ")"
      ],
      "metadata": {
        "id": "ZnsimYc8m8mE"
      },
      "execution_count": null,
      "outputs": []
    },
    {
      "cell_type": "code",
      "source": [
        "early_stopping = EarlyStopping(monitor='val_loss', patience=8, restore_best_weights=True)"
      ],
      "metadata": {
        "id": "OGtMP9grm-07"
      },
      "execution_count": null,
      "outputs": []
    },
    {
      "cell_type": "code",
      "source": [
        "lrr = ReduceLROnPlateau(monitor='val_loss',patience=8,verbose=1,factor=0.5, min_lr=0.00001)"
      ],
      "metadata": {
        "id": "LtpTkQ67nBTf"
      },
      "execution_count": null,
      "outputs": []
    },
    {
      "cell_type": "code",
      "source": [
        "model_history = model.fit_generator(\n",
        "    generator=train_generator,\n",
        "    steps_per_epoch=steps_per_epoch,\n",
        "    epochs=epochs,\n",
        "    shuffle=True,\n",
        "    validation_data=val_generator,\n",
        "    validation_steps=val_steps,\n",
        "    callbacks=[early_stopping, lrr]\n",
        ")"
      ],
      "metadata": {
        "colab": {
          "base_uri": "https://localhost:8080/"
        },
        "id": "foikeORVnD5M",
        "outputId": "e2606e1a-ced1-4b17-8283-148489af5329"
      },
      "execution_count": null,
      "outputs": [
        {
          "output_type": "stream",
          "name": "stdout",
          "text": [
            "Epoch 1/50\n"
          ]
        },
        {
          "output_type": "stream",
          "name": "stderr",
          "text": [
            "<ipython-input-24-b6bd8b88a620>:1: UserWarning: `Model.fit_generator` is deprecated and will be removed in a future version. Please use `Model.fit`, which supports generators.\n",
            "  model_history = model.fit_generator(\n"
          ]
        },
        {
          "output_type": "stream",
          "name": "stdout",
          "text": [
            "50/50 [==============================] - 4s 47ms/step - loss: 0.5387 - accuracy: 0.8100 - recall: 0.7925 - precision: 0.8364 - auc: 0.9230 - val_loss: 0.3846 - val_accuracy: 0.7778 - val_recall: 0.7778 - val_precision: 0.8116 - val_auc: 0.9641 - lr: 0.0010\n",
            "Epoch 2/50\n",
            "50/50 [==============================] - 3s 56ms/step - loss: 0.3664 - accuracy: 0.8650 - recall: 0.8525 - precision: 0.8789 - auc: 0.9640 - val_loss: 0.3215 - val_accuracy: 0.9306 - val_recall: 0.8750 - val_precision: 0.9545 - val_auc: 0.9786 - lr: 0.0010\n",
            "Epoch 3/50\n",
            "50/50 [==============================] - 2s 31ms/step - loss: 0.3074 - accuracy: 0.8900 - recall: 0.8575 - precision: 0.9122 - auc: 0.9747 - val_loss: 0.3585 - val_accuracy: 0.9028 - val_recall: 0.8889 - val_precision: 0.9143 - val_auc: 0.9613 - lr: 0.0010\n",
            "Epoch 4/50\n",
            "50/50 [==============================] - 2s 31ms/step - loss: 0.2959 - accuracy: 0.9150 - recall: 0.9000 - precision: 0.9184 - auc: 0.9745 - val_loss: 0.2211 - val_accuracy: 0.9444 - val_recall: 0.9444 - val_precision: 0.9577 - val_auc: 0.9839 - lr: 0.0010\n",
            "Epoch 5/50\n",
            "50/50 [==============================] - 2s 31ms/step - loss: 0.2535 - accuracy: 0.9200 - recall: 0.9125 - precision: 0.9288 - auc: 0.9813 - val_loss: 0.4048 - val_accuracy: 0.9167 - val_recall: 0.9167 - val_precision: 0.9167 - val_auc: 0.9624 - lr: 0.0010\n",
            "Epoch 6/50\n",
            "50/50 [==============================] - 3s 50ms/step - loss: 0.3674 - accuracy: 0.8775 - recall: 0.8725 - precision: 0.8835 - auc: 0.9631 - val_loss: 0.5195 - val_accuracy: 0.7639 - val_recall: 0.7639 - val_precision: 0.7639 - val_auc: 0.9390 - lr: 0.0010\n",
            "Epoch 7/50\n",
            "50/50 [==============================] - 3s 53ms/step - loss: 0.2869 - accuracy: 0.8950 - recall: 0.8825 - precision: 0.9193 - auc: 0.9777 - val_loss: 0.2055 - val_accuracy: 0.9722 - val_recall: 0.9722 - val_precision: 0.9722 - val_auc: 0.9854 - lr: 0.0010\n",
            "Epoch 8/50\n",
            "50/50 [==============================] - 2s 31ms/step - loss: 0.2044 - accuracy: 0.9425 - recall: 0.9375 - precision: 0.9446 - auc: 0.9878 - val_loss: 0.2653 - val_accuracy: 0.9167 - val_recall: 0.9167 - val_precision: 0.9167 - val_auc: 0.9795 - lr: 0.0010\n",
            "Epoch 9/50\n",
            "50/50 [==============================] - 2s 31ms/step - loss: 0.2761 - accuracy: 0.9025 - recall: 0.8950 - precision: 0.9109 - auc: 0.9778 - val_loss: 0.1939 - val_accuracy: 0.9167 - val_recall: 0.9028 - val_precision: 0.9155 - val_auc: 0.9932 - lr: 0.0010\n",
            "Epoch 10/50\n",
            "50/50 [==============================] - 2s 31ms/step - loss: 0.2072 - accuracy: 0.9275 - recall: 0.9200 - precision: 0.9316 - auc: 0.9880 - val_loss: 0.4046 - val_accuracy: 0.8472 - val_recall: 0.8333 - val_precision: 0.8571 - val_auc: 0.9656 - lr: 0.0010\n",
            "Epoch 11/50\n",
            "50/50 [==============================] - 2s 45ms/step - loss: 0.3054 - accuracy: 0.9000 - recall: 0.8875 - precision: 0.9173 - auc: 0.9719 - val_loss: 0.2136 - val_accuracy: 0.9722 - val_recall: 0.9722 - val_precision: 0.9722 - val_auc: 0.9840 - lr: 0.0010\n",
            "Epoch 12/50\n",
            "50/50 [==============================] - 3s 51ms/step - loss: 0.1942 - accuracy: 0.9475 - recall: 0.9375 - precision: 0.9566 - auc: 0.9888 - val_loss: 0.3023 - val_accuracy: 0.9306 - val_recall: 0.9167 - val_precision: 0.9296 - val_auc: 0.9760 - lr: 0.0010\n",
            "Epoch 13/50\n",
            "50/50 [==============================] - 2s 34ms/step - loss: 0.2639 - accuracy: 0.9250 - recall: 0.9100 - precision: 0.9309 - auc: 0.9786 - val_loss: 0.2423 - val_accuracy: 0.9167 - val_recall: 0.9028 - val_precision: 0.9155 - val_auc: 0.9886 - lr: 0.0010\n",
            "Epoch 14/50\n",
            "50/50 [==============================] - 2s 31ms/step - loss: 0.2129 - accuracy: 0.9275 - recall: 0.9200 - precision: 0.9364 - auc: 0.9854 - val_loss: 0.2188 - val_accuracy: 0.9306 - val_recall: 0.9306 - val_precision: 0.9437 - val_auc: 0.9873 - lr: 0.0010\n",
            "Epoch 15/50\n",
            "50/50 [==============================] - 2s 31ms/step - loss: 0.2510 - accuracy: 0.9225 - recall: 0.9150 - precision: 0.9289 - auc: 0.9806 - val_loss: 0.1571 - val_accuracy: 0.9583 - val_recall: 0.9583 - val_precision: 0.9718 - val_auc: 0.9926 - lr: 0.0010\n",
            "Epoch 16/50\n",
            "50/50 [==============================] - 2s 35ms/step - loss: 0.2079 - accuracy: 0.9400 - recall: 0.9300 - precision: 0.9490 - auc: 0.9859 - val_loss: 0.1812 - val_accuracy: 0.9306 - val_recall: 0.9306 - val_precision: 0.9306 - val_auc: 0.9917 - lr: 0.0010\n",
            "Epoch 17/50\n",
            "50/50 [==============================] - 3s 50ms/step - loss: 0.2077 - accuracy: 0.9425 - recall: 0.9325 - precision: 0.9443 - auc: 0.9867 - val_loss: 0.2775 - val_accuracy: 0.9167 - val_recall: 0.9167 - val_precision: 0.9167 - val_auc: 0.9821 - lr: 0.0010\n",
            "Epoch 18/50\n",
            "50/50 [==============================] - 2s 32ms/step - loss: 0.2102 - accuracy: 0.9375 - recall: 0.9250 - precision: 0.9463 - auc: 0.9864 - val_loss: 0.0903 - val_accuracy: 0.9583 - val_recall: 0.9583 - val_precision: 0.9718 - val_auc: 0.9985 - lr: 0.0010\n",
            "Epoch 19/50\n",
            "50/50 [==============================] - 2s 31ms/step - loss: 0.1908 - accuracy: 0.9500 - recall: 0.9450 - precision: 0.9545 - auc: 0.9860 - val_loss: 0.1244 - val_accuracy: 0.9722 - val_recall: 0.9583 - val_precision: 0.9718 - val_auc: 0.9982 - lr: 0.0010\n",
            "Epoch 20/50\n",
            "50/50 [==============================] - 2s 30ms/step - loss: 0.2812 - accuracy: 0.9075 - recall: 0.8975 - precision: 0.9229 - auc: 0.9775 - val_loss: 0.1955 - val_accuracy: 0.9306 - val_recall: 0.9167 - val_precision: 0.9429 - val_auc: 0.9906 - lr: 0.0010\n",
            "Epoch 21/50\n",
            "50/50 [==============================] - 2s 31ms/step - loss: 0.2765 - accuracy: 0.9200 - recall: 0.9100 - precision: 0.9309 - auc: 0.9758 - val_loss: 0.1968 - val_accuracy: 0.9444 - val_recall: 0.9444 - val_precision: 0.9444 - val_auc: 0.9897 - lr: 0.0010\n",
            "Epoch 22/50\n",
            "50/50 [==============================] - 2s 40ms/step - loss: 0.1996 - accuracy: 0.9400 - recall: 0.9325 - precision: 0.9443 - auc: 0.9883 - val_loss: 0.3025 - val_accuracy: 0.9583 - val_recall: 0.9583 - val_precision: 0.9583 - val_auc: 0.9701 - lr: 0.0010\n",
            "Epoch 23/50\n",
            "50/50 [==============================] - 3s 51ms/step - loss: 0.2395 - accuracy: 0.9225 - recall: 0.9175 - precision: 0.9268 - auc: 0.9824 - val_loss: 0.1214 - val_accuracy: 0.9722 - val_recall: 0.9722 - val_precision: 0.9722 - val_auc: 0.9962 - lr: 0.0010\n",
            "Epoch 24/50\n",
            "50/50 [==============================] - 2s 32ms/step - loss: 0.1781 - accuracy: 0.9500 - recall: 0.9450 - precision: 0.9497 - auc: 0.9898 - val_loss: 0.3731 - val_accuracy: 0.8750 - val_recall: 0.8611 - val_precision: 0.8732 - val_auc: 0.9728 - lr: 0.0010\n",
            "Epoch 25/50\n",
            "50/50 [==============================] - 2s 30ms/step - loss: 0.2116 - accuracy: 0.9325 - recall: 0.9275 - precision: 0.9392 - auc: 0.9867 - val_loss: 0.1729 - val_accuracy: 0.9306 - val_recall: 0.9306 - val_precision: 0.9306 - val_auc: 0.9922 - lr: 0.0010\n",
            "Epoch 26/50\n",
            "49/50 [============================>.] - ETA: 0s - loss: 0.1797 - accuracy: 0.9515 - recall: 0.9490 - precision: 0.9588 - auc: 0.9881\n",
            "Epoch 26: ReduceLROnPlateau reducing learning rate to 0.0005000000237487257.\n",
            "50/50 [==============================] - 2s 31ms/step - loss: 0.1808 - accuracy: 0.9500 - recall: 0.9475 - precision: 0.9571 - auc: 0.9882 - val_loss: 0.1177 - val_accuracy: 0.9444 - val_recall: 0.9444 - val_precision: 0.9577 - val_auc: 0.9959 - lr: 0.0010\n"
          ]
        }
      ]
    },
    {
      "cell_type": "markdown",
      "source": [
        "Testing"
      ],
      "metadata": {
        "id": "0W9F2g0cZsqn"
      }
    },
    {
      "cell_type": "code",
      "source": [
        "model_loss, model_acc, recall, precision, auc = model.evaluate(test_generator)\n",
        "print(f'{model_loss} || {model_acc*100} || {recall*100} || {precision*100} || {auc*100}')"
      ],
      "metadata": {
        "colab": {
          "base_uri": "https://localhost:8080/"
        },
        "id": "s7fEuQRJnJNG",
        "outputId": "080ec543-82f4-4810-c9ae-11fb62f15974"
      },
      "execution_count": null,
      "outputs": [
        {
          "output_type": "stream",
          "name": "stdout",
          "text": [
            "31/31 [==============================] - 1s 17ms/step - loss: 0.1329 - accuracy: 0.9508 - recall: 0.9508 - precision: 0.9587 - auc: 0.9957\n",
            "0.13292954862117767 || 95.08196711540222 || 95.08196711540222 || 95.86777091026306 || 99.57001209259033\n"
          ]
        }
      ]
    },
    {
      "cell_type": "code",
      "source": [
        "predictions = model.predict(test_generator)"
      ],
      "metadata": {
        "colab": {
          "base_uri": "https://localhost:8080/"
        },
        "id": "VMrmEh5Angw6",
        "outputId": "983db57f-8079-4006-db63-c20371d427be"
      },
      "execution_count": null,
      "outputs": [
        {
          "output_type": "stream",
          "name": "stdout",
          "text": [
            "31/31 [==============================] - 1s 15ms/step\n"
          ]
        }
      ]
    },
    {
      "cell_type": "markdown",
      "source": [
        "Graphical Respresentation of Results"
      ],
      "metadata": {
        "id": "c8awZuZKZvo9"
      }
    },
    {
      "cell_type": "code",
      "source": [
        "def plot_loss_and_accuracy(history):\n",
        "    history_df = pd.DataFrame(history)\n",
        "    fig, ax = plt.subplots(1,2, figsize=(12, 6))\n",
        "\n",
        "    history_df.loc[0:, ['loss', 'val_loss']].plot(ax=ax[0])\n",
        "    ax[0].set(xlabel = 'epoch number', ylabel = 'loss')\n",
        "\n",
        "    history_df.loc[0:, ['accuracy', 'val_accuracy']].plot(ax=ax[1])\n",
        "    ax[1].set(xlabel = 'epoch number', ylabel = 'accuracy')"
      ],
      "metadata": {
        "id": "ldnuewTpnr-M"
      },
      "execution_count": null,
      "outputs": []
    },
    {
      "cell_type": "code",
      "source": [
        "plot_loss_and_accuracy(model_history.history)"
      ],
      "metadata": {
        "colab": {
          "base_uri": "https://localhost:8080/",
          "height": 542
        },
        "id": "V8lOPexpn0lw",
        "outputId": "9fef11ac-c565-4ac8-c9c0-9f60b6e113d5"
      },
      "execution_count": null,
      "outputs": [
        {
          "output_type": "display_data",
          "data": {
            "text/plain": [
              "<Figure size 1200x600 with 2 Axes>"
            ],
            "image/png": "[encoded data removed]"
          },
          "metadata": {}
        }
      ]
    },
    {
      "cell_type": "markdown",
      "source": [
        "Inference on random images"
      ],
      "metadata": {
        "id": "gROUQGoCZzje"
      }
    },
    {
      "cell_type": "code",
      "source": [
        "paths = test_generator.filenames\n",
        "y_pred = model.predict(test_generator).argmax(axis=1)\n",
        "classes = test_generator.class_indices\n",
        "\n",
        "a_img_rand = np.random.randint(0,len(paths))\n",
        "img = cv2.imread(os.path.join(output_data_path,'test', paths[a_img_rand]))\n",
        "colored_img = cv2.cvtColor(img, cv2.COLOR_RGB2BGR)\n",
        "\n",
        "plt.imshow(colored_img)\n",
        "true_label = paths[a_img_rand].split('/')[0]\n",
        "predicted_label = list(classes)[y_pred[a_img_rand]]\n",
        "print(f'{predicted_label} || {true_label}')"
      ],
      "metadata": {
        "colab": {
          "base_uri": "https://localhost:8080/",
          "height": 465
        },
        "id": "0Un8E3Hln5h7",
        "outputId": "ac68e833-c9ff-4fe0-b743-637bccf9c87a"
      },
      "execution_count": null,
      "outputs": [
        {
          "output_type": "stream",
          "name": "stdout",
          "text": [
            "31/31 [==============================] - 1s 16ms/step\n",
            "with_mask || with_mask\n"
          ]
        },
        {
          "output_type": "display_data",
          "data": {
            "text/plain": [
              "<Figure size 640x480 with 1 Axes>"
            ],
            "image/png": "[encoded data removed]"
          },
          "metadata": {}
        }
      ]
    },
    {
      "cell_type": "code",
      "source": [
        "def evaluation(y, y_hat, title = 'Confusion Matrix'):\n",
        "    cm = confusion_matrix(y, y_hat)\n",
        "    sns.heatmap(cm,  cmap= 'PuBu', annot=True, fmt='g', annot_kws={'size':20})\n",
        "    plt.xlabel('predicted', fontsize=18)\n",
        "    plt.ylabel('actual', fontsize=18)\n",
        "    plt.title(title, fontsize=18)\n",
        "\n",
        "    plt.show()"
      ],
      "metadata": {
        "id": "QoCkcHYVoJUz"
      },
      "execution_count": null,
      "outputs": []
    },
    {
      "cell_type": "code",
      "source": [
        "y_true = test_generator.labels\n",
        "y_pred = model.predict(test_generator).argmax(axis=1) # Predict prob and get Class Indices\n",
        "\n",
        "evaluation(y_true, y_pred)"
      ],
      "metadata": {
        "colab": {
          "base_uri": "https://localhost:8080/",
          "height": 504
        },
        "id": "GMrecLFqodpP",
        "outputId": "814e1348-0007-4357-8711-051765056682"
      },
      "execution_count": null,
      "outputs": [
        {
          "output_type": "stream",
          "name": "stdout",
          "text": [
            "31/31 [==============================] - 0s 10ms/step\n"
          ]
        },
        {
          "output_type": "display_data",
          "data": {
            "text/plain": [
              "<Figure size 640x480 with 2 Axes>"
            ],
            "image/png": "[encoded data removed]"
          },
          "metadata": {}
        }
      ]
    },
    {
      "cell_type": "markdown",
      "source": [
        "# The following code has been written by me"
      ],
      "metadata": {
        "id": "kzUXE4o_Z6VD"
      }
    },
    {
      "cell_type": "markdown",
      "source": [
        "Saving the Model as ONNX file to use for inference"
      ],
      "metadata": {
        "id": "aEHX-eWAaAKn"
      }
    },
    {
      "cell_type": "code",
      "source": [
        "model.save(\"cnn_mask_detect.h5\")"
      ],
      "metadata": {
        "colab": {
          "base_uri": "https://localhost:8080/"
        },
        "id": "xC-ZGDyBojaj",
        "outputId": "006b4f2d-db6f-4605-e814-e2b1b377760b"
      },
      "execution_count": null,
      "outputs": [
        {
          "output_type": "stream",
          "name": "stderr",
          "text": [
            "/usr/local/lib/python3.10/dist-packages/keras/src/engine/training.py:3103: UserWarning: You are saving your model as an HDF5 file via `model.save()`. This file format is considered legacy. We recommend using instead the native Keras format, e.g. `model.save('my_model.keras')`.\n",
            "  saving_api.save_model(\n"
          ]
        }
      ]
    },
    {
      "cell_type": "code",
      "source": [
        "pip install onnx"
      ],
      "metadata": {
        "colab": {
          "base_uri": "https://localhost:8080/"
        },
        "id": "RYuZ556mcOv4",
        "outputId": "d9cd06e3-188e-461a-996d-9fb2d232f0d4"
      },
      "execution_count": null,
      "outputs": [
        {
          "output_type": "stream",
          "name": "stdout",
          "text": [
            "Collecting onnx\n",
            "  Downloading onnx-1.16.0-cp310-cp310-manylinux_2_17_x86_64.manylinux2014_x86_64.whl (15.9 MB)\n",
            "\u001b[2K     \u001b[90m━━━━━━━━━━━━━━━━━━━━━━━━━━━━━━━━━━━━━━━━\u001b[0m \u001b[32m15.9/15.9 MB\u001b[0m \u001b[31m32.8 MB/s\u001b[0m eta \u001b[36m0:00:00\u001b[0m\n",
            "\u001b[?25hRequirement already satisfied: numpy>=1.20 in /usr/local/lib/python3.10/dist-packages (from onnx) (1.25.2)\n",
            "Requirement already satisfied: protobuf>=3.20.2 in /usr/local/lib/python3.10/dist-packages (from onnx) (3.20.3)\n",
            "Installing collected packages: onnx\n",
            "Successfully installed onnx-1.16.0\n"
          ]
        }
      ]
    },
    {
      "cell_type": "code",
      "source": [
        "pip install tf2onnx"
      ],
      "metadata": {
        "colab": {
          "base_uri": "https://localhost:8080/"
        },
        "id": "f93rEBlMdXLS",
        "outputId": "7aecd2fe-0eb7-4091-8752-93a374dd905d"
      },
      "execution_count": null,
      "outputs": [
        {
          "output_type": "stream",
          "name": "stdout",
          "text": [
            "Collecting tf2onnx\n",
            "  Downloading tf2onnx-1.16.1-py3-none-any.whl (455 kB)\n",
            "\u001b[2K     \u001b[90m━━━━━━━━━━━━━━━━━━━━━━━━━━━━━━━━━━━━━━━━\u001b[0m \u001b[32m455.8/455.8 kB\u001b[0m \u001b[31m2.5 MB/s\u001b[0m eta \u001b[36m0:00:00\u001b[0m\n",
            "\u001b[?25hRequirement already satisfied: numpy>=1.14.1 in /usr/local/lib/python3.10/dist-packages (from tf2onnx) (1.25.2)\n",
            "Requirement already satisfied: onnx>=1.4.1 in /usr/local/lib/python3.10/dist-packages (from tf2onnx) (1.16.0)\n",
            "Requirement already satisfied: requests in /usr/local/lib/python3.10/dist-packages (from tf2onnx) (2.31.0)\n",
            "Requirement already satisfied: six in /usr/local/lib/python3.10/dist-packages (from tf2onnx) (1.16.0)\n",
            "Requirement already satisfied: flatbuffers>=1.12 in /usr/local/lib/python3.10/dist-packages (from tf2onnx) (24.3.25)\n",
            "Requirement already satisfied: protobuf~=3.20 in /usr/local/lib/python3.10/dist-packages (from tf2onnx) (3.20.3)\n",
            "Requirement already satisfied: charset-normalizer<4,>=2 in /usr/local/lib/python3.10/dist-packages (from requests->tf2onnx) (3.3.2)\n",
            "Requirement already satisfied: idna<4,>=2.5 in /usr/local/lib/python3.10/dist-packages (from requests->tf2onnx) (3.7)\n",
            "Requirement already satisfied: urllib3<3,>=1.21.1 in /usr/local/lib/python3.10/dist-packages (from requests->tf2onnx) (2.0.7)\n",
            "Requirement already satisfied: certifi>=2017.4.17 in /usr/local/lib/python3.10/dist-packages (from requests->tf2onnx) (2024.2.2)\n",
            "Installing collected packages: tf2onnx\n",
            "Successfully installed tf2onnx-1.16.1\n"
          ]
        }
      ]
    },
    {
      "cell_type": "code",
      "source": [
        "from tensorflow.keras.models import load_model\n",
        "import onnx\n",
        "import tf2onnx.convert\n",
        "\n",
        "load_keras_model = load_model(\"/content/cnn_mask_detect.h5\")\n",
        "onnx_model, _ = tf2onnx.convert.from_keras(load_keras_model)\n",
        "onnx.save(onnx_model, \"cnn_mask_detect.onnx\")"
      ],
      "metadata": {
        "id": "VUiHalGVbi56"
      },
      "execution_count": null,
      "outputs": []
    }
  ]
}